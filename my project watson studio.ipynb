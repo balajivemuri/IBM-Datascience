{
    "cells": [
        {
            "metadata": {},
            "cell_type": "code",
            "source": "print(\"hello watson studio\")",
            "execution_count": 2,
            "outputs": [
                {
                    "output_type": "stream",
                    "text": "hello watson studio\n",
                    "name": "stdout"
                }
            ]
        },
        {
            "metadata": {},
            "cell_type": "code",
            "source": "import math\n\nr=float(input('enter the radius of circle'))\n\ndiameter=2 * r\nArea=math.pi * r * r\nprint(\"Diameter of the circle=%.2f\" %diameter)\n\nprint(\"area of the circle=%.10f\" %Area)\n",
            "execution_count": 3,
            "outputs": [
                {
                    "output_type": "stream",
                    "name": "stdout",
                    "text": "enter the radius of circle2\nDiameter of the circle=4.00\narea of the circle=12.5663706144\n"
                }
            ]
        }
    ],
    "metadata": {
        "kernelspec": {
            "name": "python3",
            "display_name": "Python 3.10",
            "language": "python"
        },
        "language_info": {
            "name": "python",
            "version": "3.10.6",
            "mimetype": "text/x-python",
            "codemirror_mode": {
                "name": "ipython",
                "version": 3
            },
            "pygments_lexer": "ipython3",
            "nbconvert_exporter": "python",
            "file_extension": ".py"
        }
    },
    "nbformat": 4,
    "nbformat_minor": 1
}